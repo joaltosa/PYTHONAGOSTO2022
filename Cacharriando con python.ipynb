{
 "cells": [
  {
   "cell_type": "code",
   "execution_count": 3,
   "id": "2ebaed12",
   "metadata": {},
   "outputs": [
    {
     "name": "stdout",
     "output_type": "stream",
     "text": [
      "{'total': 55}\n",
      "{'copias': 256.87}\n",
      "{'Cecilia': 70, 'Fernando': 68, 'Alberto': 63, 'Jaime': 61}\n"
     ]
    }
   ],
   "source": [
    "diccionario = { 'total' : 55 }\n",
    "print ( diccionario )\n",
    "diccionario2 = { 'copias' : 256.87 }\n",
    "print ( diccionario2 )\n",
    "familia = { 'Cecilia' : 70 , 'Fernando': 68 , 'Alberto':63 , 'Jaime' : 61 }\n",
    "print ( familia )"
   ]
  },
  {
   "cell_type": "code",
   "execution_count": 6,
   "id": "972e9211",
   "metadata": {},
   "outputs": [
    {
     "name": "stdout",
     "output_type": "stream",
     "text": [
      "{'Ceciclia': 70, 'Fernando': 68, 'Alberto': 63, 'Jaime': 61}\n"
     ]
    }
   ],
   "source": [
    "family = dict ( Ceciclia = 70 , Fernando = 68 , Alberto = 63 , Jaime = 61 )\n",
    "print ( family )"
   ]
  },
  {
   "cell_type": "code",
   "execution_count": 7,
   "id": "552652a3",
   "metadata": {},
   "outputs": [
    {
     "name": "stdout",
     "output_type": "stream",
     "text": [
      "{'total': 55, 'descuento': True, 'subtotal': 15}\n"
     ]
    }
   ],
   "source": [
    "dicio = dict ( total = 55 , descuento = True , subtotal = 15 )\n",
    "print ( dicio )"
   ]
  },
  {
   "cell_type": "code",
   "execution_count": 13,
   "id": "63b2b0a6",
   "metadata": {},
   "outputs": [
    {
     "name": "stdout",
     "output_type": "stream",
     "text": [
      "{'total': 55, 10: 'curso de python', 2: True}\n"
     ]
    }
   ],
   "source": [
    "dic = { 'total' : 55 , 10 : 'curso de python' , 2 : True }\n",
    "print ( dic )"
   ]
  },
  {
   "cell_type": "code",
   "execution_count": 17,
   "id": "9a86cc5a",
   "metadata": {},
   "outputs": [
    {
     "name": "stdout",
     "output_type": "stream",
     "text": [
      "{'nombre': 'nombre de ususario', 'edad': 23, 'curso': 'curso de python', 'habilidades': {'programacion': True, 'base de datos': False}, 'No de medallas': 10}\n"
     ]
    }
   ],
   "source": [
    "usuario = {'nombre':'nombre de ususario',\n",
    "          'edad':23,\n",
    "          'curso':'curso de python',\n",
    "          'habilidades':{'programacion':True,\n",
    "                        'base de datos':False},\n",
    "        \n",
    "           'No de medallas': 10\n",
    "          }\n",
    "print (usuario)"
   ]
  },
  {
   "cell_type": "code",
   "execution_count": 18,
   "id": "2732ce28",
   "metadata": {},
   "outputs": [
    {
     "name": "stdout",
     "output_type": "stream",
     "text": [
      "curso de python\n"
     ]
    }
   ],
   "source": [
    "print (usuario [ 'curso'])"
   ]
  },
  {
   "cell_type": "code",
   "execution_count": 19,
   "id": "f33778e1",
   "metadata": {},
   "outputs": [
    {
     "name": "stdout",
     "output_type": "stream",
     "text": [
      "23\n"
     ]
    }
   ],
   "source": [
    "print ( usuario [ 'edad' ])"
   ]
  },
  {
   "cell_type": "code",
   "execution_count": 21,
   "id": "8781bc97",
   "metadata": {},
   "outputs": [
    {
     "name": "stdout",
     "output_type": "stream",
     "text": [
      "{'programacion': True, 'base de datos': False}\n"
     ]
    }
   ],
   "source": [
    "print (usuario [ 'habilidades'])"
   ]
  },
  {
   "cell_type": "code",
   "execution_count": 23,
   "id": "f6acec4f",
   "metadata": {},
   "outputs": [
    {
     "name": "stdout",
     "output_type": "stream",
     "text": [
      "True\n"
     ]
    }
   ],
   "source": [
    "print ( usuario ['habilidades']['programacion'])"
   ]
  },
  {
   "cell_type": "code",
   "execution_count": 1,
   "id": "fd5a15cf",
   "metadata": {},
   "outputs": [
    {
     "name": "stdout",
     "output_type": "stream",
     "text": [
      "{}\n"
     ]
    }
   ],
   "source": [
    "diccio = dict ( )\n",
    "print ( diccio )"
   ]
  },
  {
   "cell_type": "code",
   "execution_count": 2,
   "id": "f2462686",
   "metadata": {},
   "outputs": [
    {
     "name": "stdout",
     "output_type": "stream",
     "text": [
      "{'Marca': 'Volkswagen'}\n"
     ]
    }
   ],
   "source": [
    "diccio [ 'Marca'] = 'Volkswagen'\n",
    "print ( diccio )"
   ]
  },
  {
   "cell_type": "code",
   "execution_count": 17,
   "id": "197601fc",
   "metadata": {},
   "outputs": [
    {
     "name": "stdout",
     "output_type": "stream",
     "text": [
      "{'Marca': 'Volkswagen', 'Línea': 'Voyage', 'Modelo': 2019, 'Tipo': 'Sedán Familiar'}\n"
     ]
    }
   ],
   "source": [
    "diccio [ 'Marca'] = 'Volkswagen'\n",
    "diccio [ 'Línea'] = 'Voyage'\n",
    "diccio [ 'Modelo'] = 2019\n",
    "diccio ['Tipo'] = 'Sedán Familiar'\n",
    "print (diccio)"
   ]
  },
  {
   "cell_type": "code",
   "execution_count": 5,
   "id": "c7c37a1c",
   "metadata": {},
   "outputs": [
    {
     "name": "stdout",
     "output_type": "stream",
     "text": [
      "2019\n"
     ]
    }
   ],
   "source": [
    "print ( diccio [ 'Modelo' ])"
   ]
  },
  {
   "cell_type": "code",
   "execution_count": 6,
   "id": "60e1e79d",
   "metadata": {},
   "outputs": [
    {
     "name": "stdout",
     "output_type": "stream",
     "text": [
      "Sedán Familiar\n"
     ]
    }
   ],
   "source": [
    "print ( diccio [ 'Tipo' ] )"
   ]
  },
  {
   "cell_type": "code",
   "execution_count": 8,
   "id": "9d63879a",
   "metadata": {},
   "outputs": [
    {
     "name": "stdout",
     "output_type": "stream",
     "text": [
      "Volkswagen\n"
     ]
    }
   ],
   "source": [
    "print ( diccio [ 'Marca' ] )"
   ]
  },
  {
   "cell_type": "code",
   "execution_count": 9,
   "id": "cce56a98",
   "metadata": {},
   "outputs": [
    {
     "data": {
      "text/plain": [
       "dict_keys(['Marca', 'Línea', 'Modelo', 'Tipo'])"
      ]
     },
     "execution_count": 9,
     "metadata": {},
     "output_type": "execute_result"
    }
   ],
   "source": [
    "diccio.keys ( )"
   ]
  },
  {
   "cell_type": "code",
   "execution_count": 10,
   "id": "97ec4add",
   "metadata": {},
   "outputs": [
    {
     "data": {
      "text/plain": [
       "dict_values(['Volkswagen', 'Voyage', 2019, 'Sedán Familiar'])"
      ]
     },
     "execution_count": 10,
     "metadata": {},
     "output_type": "execute_result"
    }
   ],
   "source": [
    "diccio.values ( )"
   ]
  },
  {
   "cell_type": "code",
   "execution_count": 11,
   "id": "d53b25b9",
   "metadata": {},
   "outputs": [
    {
     "name": "stdout",
     "output_type": "stream",
     "text": [
      "<class 'dict'>\n"
     ]
    }
   ],
   "source": [
    "print ( type ( diccio ) )"
   ]
  },
  {
   "cell_type": "code",
   "execution_count": 13,
   "id": "29d607a9",
   "metadata": {},
   "outputs": [
    {
     "name": "stdout",
     "output_type": "stream",
     "text": [
      "{}\n"
     ]
    }
   ],
   "source": [
    "diccio.clear ( )\n",
    "print ( diccio )"
   ]
  },
  {
   "cell_type": "code",
   "execution_count": 16,
   "id": "ca3602df",
   "metadata": {},
   "outputs": [],
   "source": [
    "diccio.get ( 'Marca')"
   ]
  },
  {
   "cell_type": "code",
   "execution_count": 18,
   "id": "438d13e4",
   "metadata": {},
   "outputs": [
    {
     "name": "stdout",
     "output_type": "stream",
     "text": [
      "{'Marca': 'Volkswagen', 'Línea': 'Voyage', 'Modelo': 2019, 'Tipo': 'Sedán Familiar'}\n"
     ]
    }
   ],
   "source": [
    "diccio [ 'Marca'] = 'Volkswagen'\n",
    "diccio [ 'Línea'] = 'Voyage'\n",
    "diccio [ 'Modelo'] = 2019\n",
    "diccio ['Tipo'] = 'Sedán Familiar'\n",
    "print (diccio)"
   ]
  },
  {
   "cell_type": "code",
   "execution_count": 19,
   "id": "728da242",
   "metadata": {},
   "outputs": [],
   "source": [
    "diccio.get ( 'línea')"
   ]
  },
  {
   "cell_type": "code",
   "execution_count": 22,
   "id": "a51c2400",
   "metadata": {},
   "outputs": [
    {
     "data": {
      "text/plain": [
       "2.9"
      ]
     },
     "execution_count": 22,
     "metadata": {},
     "output_type": "execute_result"
    }
   ],
   "source": [
    "versiones = dict (python = 3.7 , php = 2.9 , java = 2.12 )\n",
    "versiones.get ('php')"
   ]
  },
  {
   "cell_type": "code",
   "execution_count": 23,
   "id": "33f7a218",
   "metadata": {},
   "outputs": [
    {
     "data": {
      "text/plain": [
       "2.12"
      ]
     },
     "execution_count": 23,
     "metadata": {},
     "output_type": "execute_result"
    }
   ],
   "source": [
    "versiones.get ( 'java' )"
   ]
  },
  {
   "cell_type": "code",
   "execution_count": 24,
   "id": "dfee5b08",
   "metadata": {},
   "outputs": [
    {
     "data": {
      "text/plain": [
       "dict_items([('python', 3.7), ('php', 2.9), ('java', 2.12)])"
      ]
     },
     "execution_count": 24,
     "metadata": {},
     "output_type": "execute_result"
    }
   ],
   "source": [
    "versiones.items ( )"
   ]
  },
  {
   "cell_type": "code",
   "execution_count": 25,
   "id": "09984509",
   "metadata": {},
   "outputs": [
    {
     "data": {
      "text/plain": [
       "{'Marca': 'Volkswagen',\n",
       " 'Línea': 'Voyage',\n",
       " 'Modelo': 2019,\n",
       " 'Tipo': 'Sedán Familiar'}"
      ]
     },
     "execution_count": 25,
     "metadata": {},
     "output_type": "execute_result"
    }
   ],
   "source": [
    "diccio"
   ]
  },
  {
   "cell_type": "code",
   "execution_count": 26,
   "id": "3b43c844",
   "metadata": {},
   "outputs": [
    {
     "data": {
      "text/plain": [
       "{'python': 3.7, 'php': 2.9, 'java': 2.12}"
      ]
     },
     "execution_count": 26,
     "metadata": {},
     "output_type": "execute_result"
    }
   ],
   "source": [
    "versiones"
   ]
  },
  {
   "cell_type": "code",
   "execution_count": 27,
   "id": "def4a3ee",
   "metadata": {},
   "outputs": [
    {
     "name": "stdout",
     "output_type": "stream",
     "text": [
      "2.12\n"
     ]
    }
   ],
   "source": [
    "print ( versiones.pop ( 'java'))"
   ]
  },
  {
   "cell_type": "code",
   "execution_count": 29,
   "id": "a7e506f9",
   "metadata": {},
   "outputs": [
    {
     "name": "stdout",
     "output_type": "stream",
     "text": [
      "3.7\n"
     ]
    }
   ],
   "source": [
    "print (versiones.pop ( 'python'))"
   ]
  },
  {
   "cell_type": "code",
   "execution_count": 32,
   "id": "75b9997c",
   "metadata": {},
   "outputs": [
    {
     "data": {
      "text/plain": [
       "{'rust': 3.01}"
      ]
     },
     "execution_count": 32,
     "metadata": {},
     "output_type": "execute_result"
    }
   ],
   "source": [
    "nuevaVersion = dict ( rust = 3.01 )\n",
    "nuevaVersion"
   ]
  },
  {
   "cell_type": "code",
   "execution_count": 33,
   "id": "4382ba25",
   "metadata": {},
   "outputs": [
    {
     "name": "stdout",
     "output_type": "stream",
     "text": [
      "{'php': 2.9, 'rust': 3.01}\n"
     ]
    }
   ],
   "source": [
    "versiones.update ( nuevaVersion )\n",
    "print ( versiones )"
   ]
  },
  {
   "cell_type": "code",
   "execution_count": 36,
   "id": "7a964c84",
   "metadata": {},
   "outputs": [
    {
     "name": "stdout",
     "output_type": "stream",
     "text": [
      "None\n"
     ]
    }
   ],
   "source": [
    "print ( nuevaVersion.update ( versiones ) )"
   ]
  },
  {
   "cell_type": "code",
   "execution_count": 38,
   "id": "607105c5",
   "metadata": {},
   "outputs": [
    {
     "data": {
      "text/plain": [
       "{'php': 2.9, 'rust': 3.01}"
      ]
     },
     "execution_count": 38,
     "metadata": {},
     "output_type": "execute_result"
    }
   ],
   "source": [
    "versiones.update ( nuevaVersion )\n",
    "versiones"
   ]
  },
  {
   "cell_type": "raw",
   "id": "816e9542",
   "metadata": {},
   "source": [
    "print  ( versiones )"
   ]
  },
  {
   "cell_type": "code",
   "execution_count": 39,
   "id": "72a4c33b",
   "metadata": {},
   "outputs": [
    {
     "name": "stdout",
     "output_type": "stream",
     "text": [
      "{'php': 2.9, 'rust': 3.01}\n"
     ]
    }
   ],
   "source": [
    "print ( versiones )"
   ]
  },
  {
   "cell_type": "code",
   "execution_count": 40,
   "id": "aa2b3749",
   "metadata": {},
   "outputs": [
    {
     "data": {
      "text/plain": [
       "2"
      ]
     },
     "execution_count": 40,
     "metadata": {},
     "output_type": "execute_result"
    }
   ],
   "source": [
    "len ( versiones )"
   ]
  },
  {
   "cell_type": "code",
   "execution_count": 41,
   "id": "60fed66f",
   "metadata": {},
   "outputs": [
    {
     "data": {
      "text/plain": [
       "4"
      ]
     },
     "execution_count": 41,
     "metadata": {},
     "output_type": "execute_result"
    }
   ],
   "source": [
    "len ( diccio )"
   ]
  },
  {
   "cell_type": "code",
   "execution_count": 44,
   "id": "0496ab21",
   "metadata": {},
   "outputs": [
    {
     "ename": "NameError",
     "evalue": "name 'usuario' is not defined",
     "output_type": "error",
     "traceback": [
      "\u001b[1;31m---------------------------------------------------------------------------\u001b[0m",
      "\u001b[1;31mNameError\u001b[0m                                 Traceback (most recent call last)",
      "\u001b[1;32m<ipython-input-44-cd55c936fe03>\u001b[0m in \u001b[0;36m<module>\u001b[1;34m\u001b[0m\n\u001b[1;32m----> 1\u001b[1;33m \u001b[0mprint\u001b[0m \u001b[1;33m(\u001b[0m \u001b[0mlen\u001b[0m \u001b[1;33m(\u001b[0m \u001b[0musuario\u001b[0m \u001b[1;33m)\u001b[0m \u001b[1;33m)\u001b[0m\u001b[1;33m\u001b[0m\u001b[1;33m\u001b[0m\u001b[0m\n\u001b[0m",
      "\u001b[1;31mNameError\u001b[0m: name 'usuario' is not defined"
     ]
    }
   ],
   "source": [
    "print ( len ( usuario ) )"
   ]
  },
  {
   "cell_type": "code",
   "execution_count": null,
   "id": "4021ee24",
   "metadata": {},
   "outputs": [],
   "source": []
  },
  {
   "cell_type": "code",
   "execution_count": 46,
   "id": "2254612a",
   "metadata": {},
   "outputs": [
    {
     "name": "stdout",
     "output_type": "stream",
     "text": [
      "{'nombre': 'nombre de ususario', 'edad': 23, 'curso': 'curso de python', 'habilidades': {'programacion': True, 'base de datos': False}, 'No de medallas': 10}\n"
     ]
    }
   ],
   "source": [
    "usuario = {'nombre':'nombre de usuario',\n",
    "          'edad':23,\n",
    "          'curso':'curso de python',\n",
    "          'habilidades':{'programacion':True,\n",
    "                        'base de datos':False},\n",
    "        \n",
    "           'No de medallas': 10\n",
    "          }\n",
    "print (usuario)"
   ]
  },
  {
   "cell_type": "code",
   "execution_count": 47,
   "id": "5a1c963d",
   "metadata": {},
   "outputs": [
    {
     "data": {
      "text/plain": [
       "5"
      ]
     },
     "execution_count": 47,
     "metadata": {},
     "output_type": "execute_result"
    }
   ],
   "source": [
    "len ( usuario )"
   ]
  },
  {
   "cell_type": "code",
   "execution_count": 48,
   "id": "ca6a3769",
   "metadata": {},
   "outputs": [
    {
     "name": "stdout",
     "output_type": "stream",
     "text": [
      "5\n"
     ]
    }
   ],
   "source": [
    "print ( len ( usuario ) )"
   ]
  },
  {
   "cell_type": "code",
   "execution_count": 51,
   "id": "935b6d53",
   "metadata": {},
   "outputs": [
    {
     "name": "stdout",
     "output_type": "stream",
     "text": [
      "{'nombre': 'nombre de ususario', 'habilidades': {'programacion': True, 'base de datos': False}, 'No de medallas': 10}\n"
     ]
    }
   ],
   "source": [
    "del usuario [ 'curso' ]\n",
    "print ( usuario )"
   ]
  },
  {
   "cell_type": "code",
   "execution_count": 53,
   "id": "450f21ef",
   "metadata": {},
   "outputs": [
    {
     "name": "stdout",
     "output_type": "stream",
     "text": [
      "{'nombre': 'nombre de ususario', 'habilidades': {'base de datos': False}, 'No de medallas': 10}\n"
     ]
    }
   ],
   "source": [
    "del usuario [ 'habilidades'] [ 'programacion' ]\n",
    "print ( usuario )"
   ]
  },
  {
   "cell_type": "code",
   "execution_count": 59,
   "id": "adad77e8",
   "metadata": {},
   "outputs": [
    {
     "name": "stdout",
     "output_type": "stream",
     "text": [
      "{'Alumno1': {'nombre': 'Daniel', 'edad': 11, 'estatura': 1.75, 'grado': 'Master'}, 'Alumno2': {'nombre': 'Daniel', 'edad': 32, 'estatura': 1.85, 'grado': 'Doctor'}}\n"
     ]
    }
   ],
   "source": [
    "Informacion = {  'Alumno1': {'nombre':'Daniel', 'edad':11, 'estatura':1.75, 'grado':'Master'},\n",
    "                 'Alumno2':{'nombre':'David', 'edad':32, 'estatura':1.85, 'grado':'Doctor'}   }\n",
    "\n",
    "print(Informacion)"
   ]
  },
  {
   "cell_type": "code",
   "execution_count": 57,
   "id": "36195897",
   "metadata": {},
   "outputs": [
    {
     "name": "stdout",
     "output_type": "stream",
     "text": [
      " Los nombres son iguales \n"
     ]
    }
   ],
   "source": [
    "if Estudiantes [ 'Alumno1' ][ 'nombre' ] == Estudiantes [ 'Alumno2' ][ 'nombre' ] :\n",
    "    print ( ' Los nombres son iguales ')\n",
    "else:\n",
    "    print ( ' Los nombres son diferentes')"
   ]
  },
  {
   "cell_type": "code",
   "execution_count": 60,
   "id": "08e656ec",
   "metadata": {},
   "outputs": [
    {
     "name": "stdout",
     "output_type": "stream",
     "text": [
      "Daniel es menor\n"
     ]
    }
   ],
   "source": [
    "if Informacion['Alumno1']['edad'] > Informacion['Alumno2']['edad']:\n",
    "    \n",
    "    print(str(Informacion['Alumno1']['nombre']) + ' es mayor') \n",
    "    mayor = {'nombremayor':Informacion['Alumno1']['nombre'], 'edadmayor':Informacion['Alumno1']['edad'] }\n",
    "    \n",
    "elif Informacion['Alumno1']['edad'] < Informacion['Alumno2']['edad']:\n",
    "    \n",
    "    print(str(Informacion['Alumno1']['nombre']) + ' es menor') \n",
    "    \n",
    "    mayor = {'nombremayor':Informacion['Alumno2']['nombre'], 'edadmayor':Informacion['Alumno2']['edad'] }"
   ]
  },
  {
   "cell_type": "code",
   "execution_count": 23,
   "id": "c93f66a6",
   "metadata": {},
   "outputs": [
    {
     "name": "stdout",
     "output_type": "stream",
     "text": [
      "{'alumno1': {'nombre': 'Jaime', 'edad': 61, 'peso': 60, 'residencia': 'Bogota'}, 'alumno2': {'nombre': 'Alberto', 'edad': 58, 'peso': 61, 'residencia': 'Bogota'}}\n"
     ]
    }
   ],
   "source": [
    "Hermanos = {'alumno1':{'nombre':'Jaime', 'edad': 61 , 'peso': 60 , 'residencia':'Bogota'} ,\n",
    "               'alumno2':{'nombre':'Alberto' , 'edad': 58 , 'peso': 61 , 'residencia':'Bogota'}\n",
    "              }\n",
    "            \n",
    "print ( Hermanos )"
   ]
  },
  {
   "cell_type": "code",
   "execution_count": 24,
   "id": "84a0e707",
   "metadata": {},
   "outputs": [
    {
     "name": "stdout",
     "output_type": "stream",
     "text": [
      "Los nombres son diferentes \n"
     ]
    }
   ],
   "source": [
    "if Hermanos['alumno1']['nombre'] == Hermanos['alumno2']['nombre']:\n",
    "    print ( 'Los nombres son iguales')\n",
    "else:\n",
    "    print ( 'Los nombres son diferentes ')"
   ]
  },
  {
   "cell_type": "code",
   "execution_count": 25,
   "id": "90f79be7",
   "metadata": {},
   "outputs": [
    {
     "name": "stdout",
     "output_type": "stream",
     "text": [
      "Jaime es mayor\n"
     ]
    }
   ],
   "source": [
    "if Hermanos['alumno1']['edad'] > Hermanos['alumno2']['edad']:\n",
    "    print(str(Hermanos['alumno1']['nombre']) + ' es mayor')\n",
    "else:\n",
    "    print(str ( Hermanos['alumno2']['nombre']) + ' es menor')"
   ]
  },
  {
   "cell_type": "code",
   "execution_count": 26,
   "id": "a10272cb",
   "metadata": {},
   "outputs": [
    {
     "name": "stdout",
     "output_type": "stream",
     "text": [
      "Alberto tiene el peso mayor\n"
     ]
    }
   ],
   "source": [
    "if Hermanos [ 'alumno1'][ 'peso'] > Hermanos [ 'alumno2'][ 'peso']:\n",
    "    print (str ( Hermanos [ 'alumno1'][ 'nombre']) + ' tiene el peso mayor')\n",
    "else:\n",
    "    print ( str ( Hermanos [ 'alumno2'][ 'nombre' ]) + ' tiene el peso mayor')"
   ]
  },
  {
   "cell_type": "code",
   "execution_count": null,
   "id": "88c4fdaf",
   "metadata": {},
   "outputs": [],
   "source": []
  }
 ],
 "metadata": {
  "kernelspec": {
   "display_name": "Python 3",
   "language": "python",
   "name": "python3"
  },
  "language_info": {
   "codemirror_mode": {
    "name": "ipython",
    "version": 3
   },
   "file_extension": ".py",
   "mimetype": "text/x-python",
   "name": "python",
   "nbconvert_exporter": "python",
   "pygments_lexer": "ipython3",
   "version": "3.8.8"
  }
 },
 "nbformat": 4,
 "nbformat_minor": 5
}
